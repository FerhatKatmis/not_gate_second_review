{
 "cells": [
  {
   "cell_type": "code",
   "execution_count": 9,
   "id": "bf4b625b-fe17-413e-9d63-d3f8142f496c",
   "metadata": {},
   "outputs": [],
   "source": [
    "from sympy.vector import CoordSys3D, gradient, curl, divergence, laplacian, Cross, deloperator, functions\n",
    "from sympy import Function, Symbol, diff, simplify, expand, reduced\n",
    "from sympy.vector import gradient\n",
    "import numpy as np "
   ]
  },
  {
   "cell_type": "code",
   "execution_count": null,
   "id": "8e5d2abb-d0a7-44b1-b3e9-b9c9dab4c326",
   "metadata": {},
   "outputs": [],
   "source": []
  },
  {
   "cell_type": "code",
   "execution_count": 2,
   "id": "2cb03fea-5e31-4c11-bc64-8300daabb0f0",
   "metadata": {},
   "outputs": [],
   "source": [
    "R = CoordSys3D('R')\n",
    "x = R.x\n",
    "y = R.y \n",
    "z = R.z"
   ]
  },
  {
   "cell_type": "code",
   "execution_count": 3,
   "id": "68fe3e4b-7773-4070-ba1f-b75bd0b65edf",
   "metadata": {},
   "outputs": [],
   "source": [
    "ml = [0,0,0]\n",
    "ml[0] = Function('m_x')(x,y,z)\n",
    "ml[1] = Function('m_y')(x,y,z)\n",
    "ml[2] = Function('m_z')(x,y,z)\n",
    "m = ml[0]*R.i+ ml[1]*R.j+ ml[2]*R.k\n",
    "l = Symbol('l_ex')\n",
    "f = Function('f_ot')(m.components[R.i], m.components[R.j], m.components[R.k])\n",
    "hl = [0,0,0]\n",
    "hl[0] = Function('h_x')(x,y,z)\n",
    "hl[1] = Function('h_y')(x,y,z)\n",
    "hl[2] = Function('h_z')(x,y,z)\n",
    "h = hl[0]*R.i+ hl[1]*R.j+ hl[2]*R.k\n",
    "r = x*R.i + y*R.j + z*R.k"
   ]
  },
  {
   "cell_type": "code",
   "execution_count": 4,
   "id": "78b15e4c-715f-4c15-bbea-e8a11265737d",
   "metadata": {},
   "outputs": [],
   "source": [
    "ind= [R.i, R.j, R.k]\n",
    "i = 0\n",
    "j = 1\n",
    "delm_i_x_j = diff(m.components[ind[i]],r.components[ind[j]])\n",
    "expr = (-l*laplacian(m.components[ind[i]])\n",
    "        + diff(f, m.components[ind[i]]) \n",
    "        + h.components[ind[i]])\n",
    "\n"
   ]
  },
  {
   "cell_type": "code",
   "execution_count": 5,
   "id": "be546a1c-ed48-4ae8-873f-9b1ea86b4ab6",
   "metadata": {},
   "outputs": [
    {
     "data": {
      "text/latex": [
       "$\\displaystyle - l_{ex} \\left(\\frac{\\partial^{2}}{\\partial \\mathbf{{x}_{R}}^{2}} \\operatorname{m_{x}}{\\left(\\mathbf{{x}_{R}},\\mathbf{{y}_{R}},\\mathbf{{z}_{R}} \\right)} + \\frac{\\partial^{2}}{\\partial \\mathbf{{y}_{R}}^{2}} \\operatorname{m_{x}}{\\left(\\mathbf{{x}_{R}},\\mathbf{{y}_{R}},\\mathbf{{z}_{R}} \\right)} + \\frac{\\partial^{2}}{\\partial \\mathbf{{z}_{R}}^{2}} \\operatorname{m_{x}}{\\left(\\mathbf{{x}_{R}},\\mathbf{{y}_{R}},\\mathbf{{z}_{R}} \\right)}\\right) + \\operatorname{h_{x}}{\\left(\\mathbf{{x}_{R}},\\mathbf{{y}_{R}},\\mathbf{{z}_{R}} \\right)} + \\frac{\\partial}{\\partial \\operatorname{m_{x}}{\\left(\\mathbf{{x}_{R}},\\mathbf{{y}_{R}},\\mathbf{{z}_{R}} \\right)}} \\operatorname{f_{ot}}{\\left(\\operatorname{m_{x}}{\\left(\\mathbf{{x}_{R}},\\mathbf{{y}_{R}},\\mathbf{{z}_{R}} \\right)},\\operatorname{m_{y}}{\\left(\\mathbf{{x}_{R}},\\mathbf{{y}_{R}},\\mathbf{{z}_{R}} \\right)},\\operatorname{m_{z}}{\\left(\\mathbf{{x}_{R}},\\mathbf{{y}_{R}},\\mathbf{{z}_{R}} \\right)} \\right)}$"
      ],
      "text/plain": [
       "-l_ex*(Derivative(m_x(R.x, R.y, R.z), (R.x, 2)) + Derivative(m_x(R.x, R.y, R.z), (R.y, 2)) + Derivative(m_x(R.x, R.y, R.z), (R.z, 2))) + h_x(R.x, R.y, R.z) + Derivative(f_ot(m_x(R.x, R.y, R.z), m_y(R.x, R.y, R.z), m_z(R.x, R.y, R.z)), m_x(R.x, R.y, R.z))"
      ]
     },
     "execution_count": 5,
     "metadata": {},
     "output_type": "execute_result"
    }
   ],
   "source": [
    "expr"
   ]
  },
  {
   "cell_type": "code",
   "execution_count": 6,
   "id": "8e6a07ef-c871-4ed8-969a-8f9d6394905c",
   "metadata": {},
   "outputs": [],
   "source": [
    "for i in range(3):\n",
    "        delm_i_x_j = diff(m.components[ind[i]],r.components[ind[j]])\n",
    "        expr += delm_i_x_j*(-l*laplacian(m.components[ind[i]])\n",
    "            + diff(f, m.components[ind[i]]) \n",
    "            + h.components[ind[i]])"
   ]
  },
  {
   "cell_type": "code",
   "execution_count": 8,
   "id": "3e300dae-9d4b-4db2-8138-8e1702c54a34",
   "metadata": {},
   "outputs": [
    {
     "data": {
      "text/latex": [
       "$\\displaystyle - l_{ex} \\left(\\frac{\\partial^{2}}{\\partial \\mathbf{{x}_{R}}^{2}} \\operatorname{m_{x}}{\\left(\\mathbf{{x}_{R}},\\mathbf{{y}_{R}},\\mathbf{{z}_{R}} \\right)} + \\frac{\\partial^{2}}{\\partial \\mathbf{{y}_{R}}^{2}} \\operatorname{m_{x}}{\\left(\\mathbf{{x}_{R}},\\mathbf{{y}_{R}},\\mathbf{{z}_{R}} \\right)} + \\frac{\\partial^{2}}{\\partial \\mathbf{{z}_{R}}^{2}} \\operatorname{m_{x}}{\\left(\\mathbf{{x}_{R}},\\mathbf{{y}_{R}},\\mathbf{{z}_{R}} \\right)}\\right) + \\left(- l_{ex} \\left(\\frac{\\partial^{2}}{\\partial \\mathbf{{x}_{R}}^{2}} \\operatorname{m_{x}}{\\left(\\mathbf{{x}_{R}},\\mathbf{{y}_{R}},\\mathbf{{z}_{R}} \\right)} + \\frac{\\partial^{2}}{\\partial \\mathbf{{y}_{R}}^{2}} \\operatorname{m_{x}}{\\left(\\mathbf{{x}_{R}},\\mathbf{{y}_{R}},\\mathbf{{z}_{R}} \\right)} + \\frac{\\partial^{2}}{\\partial \\mathbf{{z}_{R}}^{2}} \\operatorname{m_{x}}{\\left(\\mathbf{{x}_{R}},\\mathbf{{y}_{R}},\\mathbf{{z}_{R}} \\right)}\\right) + \\operatorname{h_{x}}{\\left(\\mathbf{{x}_{R}},\\mathbf{{y}_{R}},\\mathbf{{z}_{R}} \\right)} + \\frac{\\partial}{\\partial \\operatorname{m_{x}}{\\left(\\mathbf{{x}_{R}},\\mathbf{{y}_{R}},\\mathbf{{z}_{R}} \\right)}} \\operatorname{f_{ot}}{\\left(\\operatorname{m_{x}}{\\left(\\mathbf{{x}_{R}},\\mathbf{{y}_{R}},\\mathbf{{z}_{R}} \\right)},\\operatorname{m_{y}}{\\left(\\mathbf{{x}_{R}},\\mathbf{{y}_{R}},\\mathbf{{z}_{R}} \\right)},\\operatorname{m_{z}}{\\left(\\mathbf{{x}_{R}},\\mathbf{{y}_{R}},\\mathbf{{z}_{R}} \\right)} \\right)}\\right) \\frac{\\partial}{\\partial \\mathbf{{y}_{R}}} \\operatorname{m_{x}}{\\left(\\mathbf{{x}_{R}},\\mathbf{{y}_{R}},\\mathbf{{z}_{R}} \\right)} + \\left(- l_{ex} \\left(\\frac{\\partial^{2}}{\\partial \\mathbf{{x}_{R}}^{2}} \\operatorname{m_{y}}{\\left(\\mathbf{{x}_{R}},\\mathbf{{y}_{R}},\\mathbf{{z}_{R}} \\right)} + \\frac{\\partial^{2}}{\\partial \\mathbf{{y}_{R}}^{2}} \\operatorname{m_{y}}{\\left(\\mathbf{{x}_{R}},\\mathbf{{y}_{R}},\\mathbf{{z}_{R}} \\right)} + \\frac{\\partial^{2}}{\\partial \\mathbf{{z}_{R}}^{2}} \\operatorname{m_{y}}{\\left(\\mathbf{{x}_{R}},\\mathbf{{y}_{R}},\\mathbf{{z}_{R}} \\right)}\\right) + \\operatorname{h_{y}}{\\left(\\mathbf{{x}_{R}},\\mathbf{{y}_{R}},\\mathbf{{z}_{R}} \\right)} + \\frac{\\partial}{\\partial \\operatorname{m_{y}}{\\left(\\mathbf{{x}_{R}},\\mathbf{{y}_{R}},\\mathbf{{z}_{R}} \\right)}} \\operatorname{f_{ot}}{\\left(\\operatorname{m_{x}}{\\left(\\mathbf{{x}_{R}},\\mathbf{{y}_{R}},\\mathbf{{z}_{R}} \\right)},\\operatorname{m_{y}}{\\left(\\mathbf{{x}_{R}},\\mathbf{{y}_{R}},\\mathbf{{z}_{R}} \\right)},\\operatorname{m_{z}}{\\left(\\mathbf{{x}_{R}},\\mathbf{{y}_{R}},\\mathbf{{z}_{R}} \\right)} \\right)}\\right) \\frac{\\partial}{\\partial \\mathbf{{y}_{R}}} \\operatorname{m_{y}}{\\left(\\mathbf{{x}_{R}},\\mathbf{{y}_{R}},\\mathbf{{z}_{R}} \\right)} + \\left(- l_{ex} \\left(\\frac{\\partial^{2}}{\\partial \\mathbf{{x}_{R}}^{2}} \\operatorname{m_{z}}{\\left(\\mathbf{{x}_{R}},\\mathbf{{y}_{R}},\\mathbf{{z}_{R}} \\right)} + \\frac{\\partial^{2}}{\\partial \\mathbf{{y}_{R}}^{2}} \\operatorname{m_{z}}{\\left(\\mathbf{{x}_{R}},\\mathbf{{y}_{R}},\\mathbf{{z}_{R}} \\right)} + \\frac{\\partial^{2}}{\\partial \\mathbf{{z}_{R}}^{2}} \\operatorname{m_{z}}{\\left(\\mathbf{{x}_{R}},\\mathbf{{y}_{R}},\\mathbf{{z}_{R}} \\right)}\\right) + \\operatorname{h_{z}}{\\left(\\mathbf{{x}_{R}},\\mathbf{{y}_{R}},\\mathbf{{z}_{R}} \\right)} + \\frac{\\partial}{\\partial \\operatorname{m_{z}}{\\left(\\mathbf{{x}_{R}},\\mathbf{{y}_{R}},\\mathbf{{z}_{R}} \\right)}} \\operatorname{f_{ot}}{\\left(\\operatorname{m_{x}}{\\left(\\mathbf{{x}_{R}},\\mathbf{{y}_{R}},\\mathbf{{z}_{R}} \\right)},\\operatorname{m_{y}}{\\left(\\mathbf{{x}_{R}},\\mathbf{{y}_{R}},\\mathbf{{z}_{R}} \\right)},\\operatorname{m_{z}}{\\left(\\mathbf{{x}_{R}},\\mathbf{{y}_{R}},\\mathbf{{z}_{R}} \\right)} \\right)}\\right) \\frac{\\partial}{\\partial \\mathbf{{y}_{R}}} \\operatorname{m_{z}}{\\left(\\mathbf{{x}_{R}},\\mathbf{{y}_{R}},\\mathbf{{z}_{R}} \\right)} + \\operatorname{h_{x}}{\\left(\\mathbf{{x}_{R}},\\mathbf{{y}_{R}},\\mathbf{{z}_{R}} \\right)} + \\frac{\\partial}{\\partial \\operatorname{m_{x}}{\\left(\\mathbf{{x}_{R}},\\mathbf{{y}_{R}},\\mathbf{{z}_{R}} \\right)}} \\operatorname{f_{ot}}{\\left(\\operatorname{m_{x}}{\\left(\\mathbf{{x}_{R}},\\mathbf{{y}_{R}},\\mathbf{{z}_{R}} \\right)},\\operatorname{m_{y}}{\\left(\\mathbf{{x}_{R}},\\mathbf{{y}_{R}},\\mathbf{{z}_{R}} \\right)},\\operatorname{m_{z}}{\\left(\\mathbf{{x}_{R}},\\mathbf{{y}_{R}},\\mathbf{{z}_{R}} \\right)} \\right)}$"
      ],
      "text/plain": [
       "-l_ex*(Derivative(m_x(R.x, R.y, R.z), (R.x, 2)) + Derivative(m_x(R.x, R.y, R.z), (R.y, 2)) + Derivative(m_x(R.x, R.y, R.z), (R.z, 2))) + (-l_ex*(Derivative(m_x(R.x, R.y, R.z), (R.x, 2)) + Derivative(m_x(R.x, R.y, R.z), (R.y, 2)) + Derivative(m_x(R.x, R.y, R.z), (R.z, 2))) + h_x(R.x, R.y, R.z) + Derivative(f_ot(m_x(R.x, R.y, R.z), m_y(R.x, R.y, R.z), m_z(R.x, R.y, R.z)), m_x(R.x, R.y, R.z)))*Derivative(m_x(R.x, R.y, R.z), R.y) + (-l_ex*(Derivative(m_y(R.x, R.y, R.z), (R.x, 2)) + Derivative(m_y(R.x, R.y, R.z), (R.y, 2)) + Derivative(m_y(R.x, R.y, R.z), (R.z, 2))) + h_y(R.x, R.y, R.z) + Derivative(f_ot(m_x(R.x, R.y, R.z), m_y(R.x, R.y, R.z), m_z(R.x, R.y, R.z)), m_y(R.x, R.y, R.z)))*Derivative(m_y(R.x, R.y, R.z), R.y) + (-l_ex*(Derivative(m_z(R.x, R.y, R.z), (R.x, 2)) + Derivative(m_z(R.x, R.y, R.z), (R.y, 2)) + Derivative(m_z(R.x, R.y, R.z), (R.z, 2))) + h_z(R.x, R.y, R.z) + Derivative(f_ot(m_x(R.x, R.y, R.z), m_y(R.x, R.y, R.z), m_z(R.x, R.y, R.z)), m_z(R.x, R.y, R.z)))*Derivative(m_z(R.x, R.y, R.z), R.y) + h_x(R.x, R.y, R.z) + Derivative(f_ot(m_x(R.x, R.y, R.z), m_y(R.x, R.y, R.z), m_z(R.x, R.y, R.z)), m_x(R.x, R.y, R.z))"
      ]
     },
     "execution_count": 8,
     "metadata": {},
     "output_type": "execute_result"
    }
   ],
   "source": [
    "simplify(expr)"
   ]
  },
  {
   "cell_type": "markdown",
   "id": "2123fe24-f071-4d91-b5bf-a95463c63551",
   "metadata": {},
   "source": [
    "$$\n",
    "l_{ex} \\left(\\frac{\\partial^{2}}{\\partial \\mathbf{{x}_{R}}^{2}} \\operatorname{m_{x}}{\\left(\\mathbf{{x}_{R}},\\mathbf{{y}_{R}},\\mathbf{{z}_{R}} \\right)} + \\frac{\\partial^{2}}{\\partial \\mathbf{{y}_{R}}^{2}} \\operatorname{m_{x}}{\\left(\\mathbf{{x}_{R}},\\mathbf{{y}_{R}},\\mathbf{{z}_{R}} \\right)} + \\frac{\\partial^{2}}{\\partial \\mathbf{{z}_{R}}^{2}} \\operatorname{m_{x}}{\\left(\\mathbf{{x}_{R}},\\mathbf{{y}_{R}},\\mathbf{{z}_{R}} \\right)}\\right) + 2 \\left(- l_{ex} \\left(\\frac{\\partial^{2}}{\\partial \\mathbf{{x}_{R}}^{2}} \\operatorname{m_{x}}{\\left(\\mathbf{{x}_{R}},\\mathbf{{y}_{R}},\\mathbf{{z}_{R}} \\right)} + \\frac{\\partial^{2}}{\\partial \\mathbf{{y}_{R}}^{2}} \\operatorname{m_{x}}{\\left(\\mathbf{{x}_{R}},\\mathbf{{y}_{R}},\\mathbf{{z}_{R}} \\right)} + \\frac{\\partial^{2}}{\\partial \\mathbf{{z}_{R}}^{2}} \\operatorname{m_{x}}{\\left(\\mathbf{{x}_{R}},\\mathbf{{y}_{R}},\\mathbf{{z}_{R}} \\right)}\\right) + \\operatorname{h_{x}}{\\left(\\mathbf{{x}_{R}},\\mathbf{{y}_{R}},\\mathbf{{z}_{R}} \\right)} + \\frac{\\partial}{\\partial \\operatorname{m_{x}}{\\left(\\mathbf{{x}_{R}},\\mathbf{{y}_{R}},\\mathbf{{z}_{R}} \\right)}} \\operatorname{f_{ot}}{\\left(\\operatorname{m_{x}}{\\left(\\mathbf{{x}_{R}},\\mathbf{{y}_{R}},\\mathbf{{z}_{R}} \\right)},\\operatorname{m_{y}}{\\left(\\mathbf{{x}_{R}},\\mathbf{{y}_{R}},\\mathbf{{z}_{R}} \\right)},\\operatorname{m_{z}}{\\left(\\mathbf{{x}_{R}},\\mathbf{{y}_{R}},\\mathbf{{z}_{R}} \\right)} \\right)}\\right) \\frac{\\partial}{\\partial \\mathbf{{x}_{R}}} \\operatorname{m_{x}}{\\left(\\mathbf{{x}_{R}},\\mathbf{{y}_{R}},\\mathbf{{z}_{R}} \\right)} + 2 \\left(- l_{ex} \\left(\\frac{\\partial^{2}}{\\partial \\mathbf{{x}_{R}}^{2}} \\operatorname{m_{x}}{\\left(\\mathbf{{x}_{R}},\\mathbf{{y}_{R}},\\mathbf{{z}_{R}} \\right)} + \\frac{\\partial^{2}}{\\partial \\mathbf{{y}_{R}}^{2}} \\operatorname{m_{x}}{\\left(\\mathbf{{x}_{R}},\\mathbf{{y}_{R}},\\mathbf{{z}_{R}} \\right)} + \\frac{\\partial^{2}}{\\partial \\mathbf{{z}_{R}}^{2}} \\operatorname{m_{x}}{\\left(\\mathbf{{x}_{R}},\\mathbf{{y}_{R}},\\mathbf{{z}_{R}} \\right)}\\right) + \\operatorname{h_{x}}{\\left(\\mathbf{{x}_{R}},\\mathbf{{y}_{R}},\\mathbf{{z}_{R}} \\right)} + \\frac{\\partial}{\\partial \\operatorname{m_{x}}{\\left(\\mathbf{{x}_{R}},\\mathbf{{y}_{R}},\\mathbf{{z}_{R}} \\right)}} \\operatorname{f_{ot}}{\\left(\\operatorname{m_{x}}{\\left(\\mathbf{{x}_{R}},\\mathbf{{y}_{R}},\\mathbf{{z}_{R}} \\right)},\\operatorname{m_{y}}{\\left(\\mathbf{{x}_{R}},\\mathbf{{y}_{R}},\\mathbf{{z}_{R}} \\right)},\\operatorname{m_{z}}{\\left(\\mathbf{{x}_{R}},\\mathbf{{y}_{R}},\\mathbf{{z}_{R}} \\right)} \\right)}\\right) \\frac{\\partial}{\\partial \\mathbf{{y}_{R}}} \\operatorname{m_{x}}{\\left(\\mathbf{{x}_{R}},\\mathbf{{y}_{R}},\\mathbf{{z}_{R}} \\right)} + 3 \\left(- l_{ex} \\left(\\frac{\\partial^{2}}{\\partial \\mathbf{{x}_{R}}^{2}} \\operatorname{m_{x}}{\\left(\\mathbf{{x}_{R}},\\mathbf{{y}_{R}},\\mathbf{{z}_{R}} \\right)} + \\frac{\\partial^{2}}{\\partial \\mathbf{{y}_{R}}^{2}} \\operatorname{m_{x}}{\\left(\\mathbf{{x}_{R}},\\mathbf{{y}_{R}},\\mathbf{{z}_{R}} \\right)} + \\frac{\\partial^{2}}{\\partial \\mathbf{{z}_{R}}^{2}} \\operatorname{m_{x}}{\\left(\\mathbf{{x}_{R}},\\mathbf{{y}_{R}},\\mathbf{{z}_{R}} \\right)}\\right) + \\operatorname{h_{x}}{\\left(\\mathbf{{x}_{R}},\\mathbf{{y}_{R}},\\mathbf{{z}_{R}} \\right)} + \\frac{\\partial}{\\partial \\operatorname{m_{x}}{\\left(\\mathbf{{x}_{R}},\\mathbf{{y}_{R}},\\mathbf{{z}_{R}} \\right)}} \\operatorname{f_{ot}}{\\left(\\operatorname{m_{x}}{\\left(\\mathbf{{x}_{R}},\\mathbf{{y}_{R}},\\mathbf{{z}_{R}} \\right)},\\operatorname{m_{y}}{\\left(\\mathbf{{x}_{R}},\\mathbf{{y}_{R}},\\mathbf{{z}_{R}} \\right)},\\operatorname{m_{z}}{\\left(\\mathbf{{x}_{R}},\\mathbf{{y}_{R}},\\mathbf{{z}_{R}} \\right)} \\right)}\\right) \\frac{\\partial}{\\partial \\mathbf{{z}_{R}}} \\operatorname{m_{x}}{\\left(\\mathbf{{x}_{R}},\\mathbf{{y}_{R}},\\mathbf{{z}_{R}} \\right)} + \\left(- l_{ex} \\left(\\frac{\\partial^{2}}{\\partial \\mathbf{{x}_{R}}^{2}} \\operatorname{m_{y}}{\\left(\\mathbf{{x}_{R}},\\mathbf{{y}_{R}},\\mathbf{{z}_{R}} \\right)} + \\frac{\\partial^{2}}{\\partial \\mathbf{{y}_{R}}^{2}} \\operatorname{m_{y}}{\\left(\\mathbf{{x}_{R}},\\mathbf{{y}_{R}},\\mathbf{{z}_{R}} \\right)} + \\frac{\\partial^{2}}{\\partial \\mathbf{{z}_{R}}^{2}} \\operatorname{m_{y}}{\\left(\\mathbf{{x}_{R}},\\mathbf{{y}_{R}},\\mathbf{{z}_{R}} \\right)}\\right) + \\operatorname{h_{y}}{\\left(\\mathbf{{x}_{R}},\\mathbf{{y}_{R}},\\mathbf{{z}_{R}} \\right)} + \\frac{\\partial}{\\partial \\operatorname{m_{y}}{\\left(\\mathbf{{x}_{R}},\\mathbf{{y}_{R}},\\mathbf{{z}_{R}} \\right)}} \\operatorname{f_{ot}}{\\left(\\operatorname{m_{x}}{\\left(\\mathbf{{x}_{R}},\\mathbf{{y}_{R}},\\mathbf{{z}_{R}} \\right)},\\operatorname{m_{y}}{\\left(\\mathbf{{x}_{R}},\\mathbf{{y}_{R}},\\mathbf{{z}_{R}} \\right)},\\operatorname{m_{z}}{\\left(\\mathbf{{x}_{R}},\\mathbf{{y}_{R}},\\mathbf{{z}_{R}} \\right)} \\right)}\\right) \\frac{\\partial}{\\partial \\mathbf{{x}_{R}}} \\operatorname{m_{y}}{\\left(\\mathbf{{x}_{R}},\\mathbf{{y}_{R}},\\mathbf{{z}_{R}} \\right)} + \\left(- l_{ex} \\left(\\frac{\\partial^{2}}{\\partial \\mathbf{{x}_{R}}^{2}} \\operatorname{m_{y}}{\\left(\\mathbf{{x}_{R}},\\mathbf{{y}_{R}},\\mathbf{{z}_{R}} \\right)} + \\frac{\\partial^{2}}{\\partial \\mathbf{{y}_{R}}^{2}} \\operatorname{m_{y}}{\\left(\\mathbf{{x}_{R}},\\mathbf{{y}_{R}},\\mathbf{{z}_{R}} \\right)} + \\frac{\\partial^{2}}{\\partial \\mathbf{{z}_{R}}^{2}} \\operatorname{m_{y}}{\\left(\\mathbf{{x}_{R}},\\mathbf{{y}_{R}},\\mathbf{{z}_{R}} \\right)}\\right) + \\operatorname{h_{y}}{\\left(\\mathbf{{x}_{R}},\\mathbf{{y}_{R}},\\mathbf{{z}_{R}} \\right)} + \\frac{\\partial}{\\partial \\operatorname{m_{y}}{\\left(\\mathbf{{x}_{R}},\\mathbf{{y}_{R}},\\mathbf{{z}_{R}} \\right)}} \\operatorname{f_{ot}}{\\left(\\operatorname{m_{x}}{\\left(\\mathbf{{x}_{R}},\\mathbf{{y}_{R}},\\mathbf{{z}_{R}} \\right)},\\operatorname{m_{y}}{\\left(\\mathbf{{x}_{R}},\\mathbf{{y}_{R}},\\mathbf{{z}_{R}} \\right)},\\operatorname{m_{z}}{\\left(\\mathbf{{x}_{R}},\\mathbf{{y}_{R}},\\mathbf{{z}_{R}} \\right)} \\right)}\\right) \\frac{\\partial}{\\partial \\mathbf{{y}_{R}}} \\operatorname{m_{y}}{\\left(\\mathbf{{x}_{R}},\\mathbf{{y}_{R}},\\mathbf{{z}_{R}} \\right)} + 2 \\left(- l_{ex} \\left(\\frac{\\partial^{2}}{\\partial \\mathbf{{x}_{R}}^{2}} \\operatorname{m_{y}}{\\left(\\mathbf{{x}_{R}},\\mathbf{{y}_{R}},\\mathbf{{z}_{R}} \\right)} + \\frac{\\partial^{2}}{\\partial \\mathbf{{y}_{R}}^{2}} \\operatorname{m_{y}}{\\left(\\mathbf{{x}_{R}},\\mathbf{{y}_{R}},\\mathbf{{z}_{R}} \\right)} + \\frac{\\partial^{2}}{\\partial \\mathbf{{z}_{R}}^{2}} \\operatorname{m_{y}}{\\left(\\mathbf{{x}_{R}},\\mathbf{{y}_{R}},\\mathbf{{z}_{R}} \\right)}\\right) + \\operatorname{h_{y}}{\\left(\\mathbf{{x}_{R}},\\mathbf{{y}_{R}},\\mathbf{{z}_{R}} \\right)} + \\frac{\\partial}{\\partial \\operatorname{m_{y}}{\\left(\\mathbf{{x}_{R}},\\mathbf{{y}_{R}},\\mathbf{{z}_{R}} \\right)}} \\operatorname{f_{ot}}{\\left(\\operatorname{m_{x}}{\\left(\\mathbf{{x}_{R}},\\mathbf{{y}_{R}},\\mathbf{{z}_{R}} \\right)},\\operatorname{m_{y}}{\\left(\\mathbf{{x}_{R}},\\mathbf{{y}_{R}},\\mathbf{{z}_{R}} \\right)},\\operatorname{m_{z}}{\\left(\\mathbf{{x}_{R}},\\mathbf{{y}_{R}},\\mathbf{{z}_{R}} \\right)} \\right)}\\right) \\frac{\\partial}{\\partial \\mathbf{{z}_{R}}} \\operatorname{m_{y}}{\\left(\\mathbf{{x}_{R}},\\mathbf{{y}_{R}},\\mathbf{{z}_{R}} \\right)} + \\left(- l_{ex} \\left(\\frac{\\partial^{2}}{\\partial \\mathbf{{x}_{R}}^{2}} \\operatorname{m_{z}}{\\left(\\mathbf{{x}_{R}},\\mathbf{{y}_{R}},\\mathbf{{z}_{R}} \\right)} + \\frac{\\partial^{2}}{\\partial \\mathbf{{y}_{R}}^{2}} \\operatorname{m_{z}}{\\left(\\mathbf{{x}_{R}},\\mathbf{{y}_{R}},\\mathbf{{z}_{R}} \\right)} + \\frac{\\partial^{2}}{\\partial \\mathbf{{z}_{R}}^{2}} \\operatorname{m_{z}}{\\left(\\mathbf{{x}_{R}},\\mathbf{{y}_{R}},\\mathbf{{z}_{R}} \\right)}\\right) + \\operatorname{h_{z}}{\\left(\\mathbf{{x}_{R}},\\mathbf{{y}_{R}},\\mathbf{{z}_{R}} \\right)} + \\frac{\\partial}{\\partial \\operatorname{m_{z}}{\\left(\\mathbf{{x}_{R}},\\mathbf{{y}_{R}},\\mathbf{{z}_{R}} \\right)}} \\operatorname{f_{ot}}{\\left(\\operatorname{m_{x}}{\\left(\\mathbf{{x}_{R}},\\mathbf{{y}_{R}},\\mathbf{{z}_{R}} \\right)},\\operatorname{m_{y}}{\\left(\\mathbf{{x}_{R}},\\mathbf{{y}_{R}},\\mathbf{{z}_{R}} \\right)},\\operatorname{m_{z}}{\\left(\\mathbf{{x}_{R}},\\mathbf{{y}_{R}},\\mathbf{{z}_{R}} \\right)} \\right)}\\right) \\frac{\\partial}{\\partial \\mathbf{{x}_{R}}} \\operatorname{m_{z}}{\\left(\\mathbf{{x}_{R}},\\mathbf{{y}_{R}},\\mathbf{{z}_{R}} \\right)} + \\left(- l_{ex} \\left(\\frac{\\partial^{2}}{\\partial \\mathbf{{x}_{R}}^{2}} \\operatorname{m_{z}}{\\left(\\mathbf{{x}_{R}},\\mathbf{{y}_{R}},\\mathbf{{z}_{R}} \\right)} + \\frac{\\partial^{2}}{\\partial \\mathbf{{y}_{R}}^{2}} \\operatorname{m_{z}}{\\left(\\mathbf{{x}_{R}},\\mathbf{{y}_{R}},\\mathbf{{z}_{R}} \\right)} + \\frac{\\partial^{2}}{\\partial \\mathbf{{z}_{R}}^{2}} \\operatorname{m_{z}}{\\left(\\mathbf{{x}_{R}},\\mathbf{{y}_{R}},\\mathbf{{z}_{R}} \\right)}\\right) + \\operatorname{h_{z}}{\\left(\\mathbf{{x}_{R}},\\mathbf{{y}_{R}},\\mathbf{{z}_{R}} \\right)} + \\frac{\\partial}{\\partial \\operatorname{m_{z}}{\\left(\\mathbf{{x}_{R}},\\mathbf{{y}_{R}},\\mathbf{{z}_{R}} \\right)}} \\operatorname{f_{ot}}{\\left(\\operatorname{m_{x}}{\\left(\\mathbf{{x}_{R}},\\mathbf{{y}_{R}},\\mathbf{{z}_{R}} \\right)},\\operatorname{m_{y}}{\\left(\\mathbf{{x}_{R}},\\mathbf{{y}_{R}},\\mathbf{{z}_{R}} \\right)},\\operatorname{m_{z}}{\\left(\\mathbf{{x}_{R}},\\mathbf{{y}_{R}},\\mathbf{{z}_{R}} \\right)} \\right)}\\right) \\frac{\\partial}{\\partial \\mathbf{{y}_{R}}} \\operatorname{m_{z}}{\\left(\\mathbf{{x}_{R}},\\mathbf{{y}_{R}},\\mathbf{{z}_{R}} \\right)} + 2 \\left(- l_{ex} \\left(\\frac{\\partial^{2}}{\\partial \\mathbf{{x}_{R}}^{2}} \\operatorname{m_{z}}{\\left(\\mathbf{{x}_{R}},\\mathbf{{y}_{R}},\\mathbf{{z}_{R}} \\right)} + \\frac{\\partial^{2}}{\\partial \\mathbf{{y}_{R}}^{2}} \\operatorname{m_{z}}{\\left(\\mathbf{{x}_{R}},\\mathbf{{y}_{R}},\\mathbf{{z}_{R}} \\right)} + \\frac{\\partial^{2}}{\\partial \\mathbf{{z}_{R}}^{2}} \\operatorname{m_{z}}{\\left(\\mathbf{{x}_{R}},\\mathbf{{y}_{R}},\\mathbf{{z}_{R}} \\right)}\\right) + \\operatorname{h_{z}}{\\left(\\mathbf{{x}_{R}},\\mathbf{{y}_{R}},\\mathbf{{z}_{R}} \\right)} + \\frac{\\partial}{\\partial \\operatorname{m_{z}}{\\left(\\mathbf{{x}_{R}},\\mathbf{{y}_{R}},\\mathbf{{z}_{R}} \\right)}} \\operatorname{f_{ot}}{\\left(\\operatorname{m_{x}}{\\left(\\mathbf{{x}_{R}},\\mathbf{{y}_{R}},\\mathbf{{z}_{R}} \\right)},\\operatorname{m_{y}}{\\left(\\mathbf{{x}_{R}},\\mathbf{{y}_{R}},\\mathbf{{z}_{R}} \\right)},\\operatorname{m_{z}}{\\left(\\mathbf{{x}_{R}},\\mathbf{{y}_{R}},\\mathbf{{z}_{R}} \\right)} \\right)}\\right) \\frac{\\partial}{\\partial \\mathbf{{z}_{R}}} \\operatorname{m_{z}}{\\left(\\mathbf{{x}_{R}},\\mathbf{{y}_{R}},\\mathbf{{z}_{R}} \\right)} + \\operatorname{h_{x}}{\\left(\\mathbf{{x}_{R}},\\mathbf{{y}_{R}},\\mathbf{{z}_{R}} \\right)} + \\frac{\\partial}{\\partial \\operatorname{m_{x}}{\\left(\\mathbf{{x}_{R}},\\mathbf{{y}_{R}},\\mathbf{{z}_{R}} \\right)}} \\operatorname{f_{ot}}{\\left(\\operatorname{m_{x}}{\\left(\\mathbf{{x}_{R}},\\mathbf{{y}_{R}},\\mathbf{{z}_{R}} \\right)},\\operatorname{m_{y}}{\\left(\\mathbf{{x}_{R}},\\mathbf{{y}_{R}},\\mathbf{{z}_{R}} \\right)},\\operatorname{m_{z}}{\\left(\\mathbf{{x}_{R}},\\mathbf{{y}_{R}},\\mathbf{{z}_{R}} \\right)} \\right)} \n",
    "$$\n"
   ]
  },
  {
   "cell_type": "code",
   "execution_count": 10,
   "id": "0e6ac56e-d7f5-4060-be7d-96cf61ab0735",
   "metadata": {},
   "outputs": [
    {
     "ename": "TypeError",
     "evalue": "reduced() missing 1 required positional argument: 'G'",
     "output_type": "error",
     "traceback": [
      "\u001b[0;31m---------------------------------------------------------------------------\u001b[0m",
      "\u001b[0;31mTypeError\u001b[0m                                 Traceback (most recent call last)",
      "\u001b[0;32m/var/folders/q7/t0v848hn38z8qy436thrkzhc0000gp/T/ipykernel_20527/814932085.py\u001b[0m in \u001b[0;36m<module>\u001b[0;34m\u001b[0m\n\u001b[0;32m----> 1\u001b[0;31m \u001b[0mreduced\u001b[0m\u001b[0;34m(\u001b[0m\u001b[0mexpr\u001b[0m\u001b[0;34m)\u001b[0m\u001b[0;34m\u001b[0m\u001b[0;34m\u001b[0m\u001b[0m\n\u001b[0m",
      "\u001b[0;31mTypeError\u001b[0m: reduced() missing 1 required positional argument: 'G'"
     ]
    }
   ],
   "source": [
    "reduced()"
   ]
  },
  {
   "cell_type": "code",
   "execution_count": 129,
   "id": "388d320b-b0e0-4758-b8ae-bc7946db4c2d",
   "metadata": {},
   "outputs": [
    {
     "data": {
      "text/plain": [
       "'$\\\\displaystyle \\\\operatorname{f_{ot}}{\\\\left(\\\\operatorname{m_{x}}{\\\\left(\\\\mathbf{{x}_{R}},\\\\mathbf{{y}_{R}},\\\\mathbf{{z}_{R}} \\\\right)},\\\\operatorname{m_{y}}{\\\\left(\\\\mathbf{{x}_{R}},\\\\mathbf{{y}_{R}},\\\\mathbf{{z}_{R}} \\\\right)},\\\\operatorname{m_{z}}{\\\\left(\\\\mathbf{{x}_{R}},\\\\mathbf{{y}_{R}},\\\\mathbf{{z}_{R}} \\\\right)} \\\\right)}$'"
      ]
     },
     "execution_count": 129,
     "metadata": {},
     "output_type": "execute_result"
    }
   ],
   "source": [
    "f._repr_latex_()"
   ]
  },
  {
   "cell_type": "markdown",
   "id": "2c3feb28-d953-4d40-9722-4eb336273a6d",
   "metadata": {},
   "source": [
    "'$\\\\displaystyle \\\\operatorname{f_{ot}}{\\\\left(\\\\operatorname{m_{x}}{\\\\left(\\\\mathbf{{x}_{R}},\\\\mathbf{{y}_{R}},\\\\mathbf{{z}_{R}} \\\\right)},\\\\operatorname{m_{y}}{\\\\left(\\\\mathbf{{x}_{R}},\\\\mathbf{{y}_{R}},\\\\mathbf{{z}_{R}} \\\\right)},\\\\operatorname{m_{z}}{\\\\left(\\\\mathbf{{x}_{R}},\\\\mathbf{{y}_{R}},\\\\mathbf{{z}_{R}} \\\\right)} \\\\right)}$'"
   ]
  },
  {
   "cell_type": "code",
   "execution_count": 65,
   "id": "fbaf4e01-2379-4b6b-82fc-05a90f86f99d",
   "metadata": {},
   "outputs": [
    {
     "data": {
      "text/latex": [
       "$\\displaystyle - l_{ex} \\left(\\frac{\\partial^{2}}{\\partial \\mathbf{{x}_{R}}^{2}} \\operatorname{m_{x}}{\\left(\\mathbf{{x}_{R}},\\mathbf{{y}_{R}},\\mathbf{{z}_{R}} \\right)} + \\frac{\\partial^{2}}{\\partial \\mathbf{{y}_{R}}^{2}} \\operatorname{m_{x}}{\\left(\\mathbf{{x}_{R}},\\mathbf{{y}_{R}},\\mathbf{{z}_{R}} \\right)} + \\frac{\\partial^{2}}{\\partial \\mathbf{{z}_{R}}^{2}} \\operatorname{m_{x}}{\\left(\\mathbf{{x}_{R}},\\mathbf{{y}_{R}},\\mathbf{{z}_{R}} \\right)}\\right)$"
      ],
      "text/plain": [
       "-l_ex*(Derivative(m_x(R.x, R.y, R.z), (R.x, 2)) + Derivative(m_x(R.x, R.y, R.z), (R.y, 2)) + Derivative(m_x(R.x, R.y, R.z), (R.z, 2)))"
      ]
     },
     "execution_count": 65,
     "metadata": {},
     "output_type": "execute_result"
    }
   ],
   "source": [
    "expr"
   ]
  },
  {
   "cell_type": "code",
   "execution_count": 62,
   "id": "89e1f615-3d46-4670-901c-b9aaa1f8d25f",
   "metadata": {},
   "outputs": [
    {
     "data": {
      "text/latex": [
       "$\\displaystyle \\operatorname{m_{x}}{\\left(\\mathbf{{x}_{R}},\\mathbf{{y}_{R}},\\mathbf{{z}_{R}} \\right)}$"
      ],
      "text/plain": [
       "m_x(R.x, R.y, R.z)"
      ]
     },
     "execution_count": 62,
     "metadata": {},
     "output_type": "execute_result"
    }
   ],
   "source": [
    "m.components[R.i]"
   ]
  },
  {
   "cell_type": "code",
   "execution_count": 63,
   "id": "e7e39691-3af5-432d-a737-192c39f148d5",
   "metadata": {},
   "outputs": [
    {
     "data": {
      "text/latex": [
       "$\\displaystyle \\frac{\\partial^{2}}{\\partial \\mathbf{{x}_{R}}^{2}} \\operatorname{m_{x}}{\\left(\\mathbf{{x}_{R}},\\mathbf{{y}_{R}},\\mathbf{{z}_{R}} \\right)} + \\frac{\\partial^{2}}{\\partial \\mathbf{{y}_{R}}^{2}} \\operatorname{m_{x}}{\\left(\\mathbf{{x}_{R}},\\mathbf{{y}_{R}},\\mathbf{{z}_{R}} \\right)} + \\frac{\\partial^{2}}{\\partial \\mathbf{{z}_{R}}^{2}} \\operatorname{m_{x}}{\\left(\\mathbf{{x}_{R}},\\mathbf{{y}_{R}},\\mathbf{{z}_{R}} \\right)}$"
      ],
      "text/plain": [
       "Derivative(m_x(R.x, R.y, R.z), (R.x, 2)) + Derivative(m_x(R.x, R.y, R.z), (R.y, 2)) + Derivative(m_x(R.x, R.y, R.z), (R.z, 2))"
      ]
     },
     "execution_count": 63,
     "metadata": {},
     "output_type": "execute_result"
    }
   ],
   "source": [
    "laplacian(m.components[R.i])"
   ]
  },
  {
   "cell_type": "code",
   "execution_count": 54,
   "id": "d87a07e3-cb04-4751-a7d6-19d9d38f3c10",
   "metadata": {},
   "outputs": [
    {
     "data": {
      "text/latex": [
       "$\\displaystyle \\frac{\\partial}{\\partial \\mathbf{{x}_{R}}} \\operatorname{h_{x}}{\\left(\\mathbf{{x}_{R}},\\mathbf{{y}_{R}},\\mathbf{{z}_{R}} \\right)} + \\frac{\\partial}{\\partial \\mathbf{{y}_{R}}} \\operatorname{h_{y}}{\\left(\\mathbf{{x}_{R}},\\mathbf{{y}_{R}},\\mathbf{{z}_{R}} \\right)} + \\frac{\\partial}{\\partial \\mathbf{{z}_{R}}} \\operatorname{h_{z}}{\\left(\\mathbf{{x}_{R}},\\mathbf{{y}_{R}},\\mathbf{{z}_{R}} \\right)}$"
      ],
      "text/plain": [
       "Derivative(h_x(R.x, R.y, R.z), R.x) + Derivative(h_y(R.x, R.y, R.z), R.y) + Derivative(h_z(R.x, R.y, R.z), R.z)"
      ]
     },
     "execution_count": 54,
     "metadata": {},
     "output_type": "execute_result"
    }
   ],
   "source": [
    "divergence(h)"
   ]
  },
  {
   "cell_type": "code",
   "execution_count": 42,
   "id": "25bbfd45-ddfd-440c-a3ab-9d105ba5292d",
   "metadata": {},
   "outputs": [],
   "source": [
    "l = Symbol('l_ex')"
   ]
  },
  {
   "cell_type": "code",
   "execution_count": 43,
   "id": "6ee3a3c7-4273-4344-ab1a-c2161bd3f5d6",
   "metadata": {},
   "outputs": [],
   "source": [
    "expr = l*diff(m_x, y)"
   ]
  },
  {
   "cell_type": "code",
   "execution_count": 44,
   "id": "7f4a12f0-5393-4e6a-affc-838636bce532",
   "metadata": {},
   "outputs": [
    {
     "data": {
      "text/latex": [
       "$\\displaystyle l_{ex} \\frac{\\partial}{\\partial \\mathbf{{y}_{R}}} \\operatorname{m_{x}}{\\left(\\mathbf{{x}_{R}},\\mathbf{{y}_{R}},\\mathbf{{z}_{R}} \\right)}$"
      ],
      "text/plain": [
       "l_ex*Derivative(m_x(R.x, R.y, R.z), R.y)"
      ]
     },
     "execution_count": 44,
     "metadata": {},
     "output_type": "execute_result"
    }
   ],
   "source": [
    "expr"
   ]
  },
  {
   "cell_type": "code",
   "execution_count": 38,
   "id": "33639237-8579-4ec5-91a2-6d1dcc5a3b1d",
   "metadata": {},
   "outputs": [
    {
     "data": {
      "text/latex": [
       "$\\displaystyle \\frac{\\partial}{\\partial \\mathbf{{x}_{R}}} \\operatorname{m_{x}}{\\left(\\mathbf{{x}_{R}},\\mathbf{{y}_{R}},\\mathbf{{z}_{R}} \\right)} + \\frac{\\partial}{\\partial \\mathbf{{y}_{R}}} \\operatorname{m_{y}}{\\left(\\mathbf{{x}_{R}},\\mathbf{{y}_{R}},\\mathbf{{z}_{R}} \\right)} + \\frac{\\partial}{\\partial \\mathbf{{z}_{R}}} \\operatorname{m_{z}}{\\left(\\mathbf{{x}_{R}},\\mathbf{{y}_{R}},\\mathbf{{z}_{R}} \\right)}$"
      ],
      "text/plain": [
       "Derivative(m_x(R.x, R.y, R.z), R.x) + Derivative(m_y(R.x, R.y, R.z), R.y) + Derivative(m_z(R.x, R.y, R.z), R.z)"
      ]
     },
     "execution_count": 38,
     "metadata": {},
     "output_type": "execute_result"
    }
   ],
   "source": [
    "divergence(m)"
   ]
  },
  {
   "cell_type": "code",
   "execution_count": 19,
   "id": "4114c656-4c3f-456e-bcd8-f4e019577c6c",
   "metadata": {},
   "outputs": [
    {
     "data": {
      "text/latex": [
       "$\\displaystyle \\frac{\\partial^{2}}{\\partial \\mathbf{{x}_{R}}^{2}} m{\\left(\\mathbf{{x}_{R}},\\mathbf{{y}_{R}},\\mathbf{{z}_{R}} \\right)} + \\frac{\\partial^{2}}{\\partial \\mathbf{{y}_{R}}^{2}} m{\\left(\\mathbf{{x}_{R}},\\mathbf{{y}_{R}},\\mathbf{{z}_{R}} \\right)} + \\frac{\\partial^{2}}{\\partial \\mathbf{{z}_{R}}^{2}} m{\\left(\\mathbf{{x}_{R}},\\mathbf{{y}_{R}},\\mathbf{{z}_{R}} \\right)}$"
      ],
      "text/plain": [
       "Derivative(m(R.x, R.y, R.z), (R.x, 2)) + Derivative(m(R.x, R.y, R.z), (R.y, 2)) + Derivative(m(R.x, R.y, R.z), (R.z, 2))"
      ]
     },
     "execution_count": 19,
     "metadata": {},
     "output_type": "execute_result"
    }
   ],
   "source": [
    "divergence(gradient(mx))"
   ]
  },
  {
   "cell_type": "code",
   "execution_count": 11,
   "id": "505ec03a-bb6e-4bfd-b454-31054398d7ba",
   "metadata": {},
   "outputs": [],
   "source": [
    "electric_potential = 2*x**2 + y"
   ]
  },
  {
   "cell_type": "code",
   "execution_count": 12,
   "id": "b2a23fb2-a984-4ff9-8328-972d5ddde0b8",
   "metadata": {},
   "outputs": [
    {
     "data": {
      "text/latex": [
       "$\\displaystyle 4$"
      ],
      "text/plain": [
       "4"
      ]
     },
     "execution_count": 12,
     "metadata": {},
     "output_type": "execute_result"
    }
   ],
   "source": [
    "divergence(gradient(electric_potential))"
   ]
  },
  {
   "cell_type": "code",
   "execution_count": 15,
   "id": "490574a3-4390-4547-ba4c-f1bb12411833",
   "metadata": {},
   "outputs": [
    {
     "ename": "TypeError",
     "evalue": "__new__() takes from 1 to 2 positional arguments but 3 were given",
     "output_type": "error",
     "traceback": [
      "\u001b[0;31m---------------------------------------------------------------------------\u001b[0m",
      "\u001b[0;31mTypeError\u001b[0m                                 Traceback (most recent call last)",
      "\u001b[0;32m/var/folders/q7/t0v848hn38z8qy436thrkzhc0000gp/T/ipykernel_20093/4255353772.py\u001b[0m in \u001b[0;36m<module>\u001b[0;34m\u001b[0m\n\u001b[0;32m----> 1\u001b[0;31m \u001b[0mdeloperator\u001b[0m\u001b[0;34m.\u001b[0m\u001b[0mDel\u001b[0m\u001b[0;34m(\u001b[0m\u001b[0mm\u001b[0m\u001b[0;34m,\u001b[0m\u001b[0mx\u001b[0m\u001b[0;34m)\u001b[0m\u001b[0;34m\u001b[0m\u001b[0;34m\u001b[0m\u001b[0m\n\u001b[0m",
      "\u001b[0;31mTypeError\u001b[0m: __new__() takes from 1 to 2 positional arguments but 3 were given"
     ]
    }
   ],
   "source": [
    "deloperator.Del(m,x)"
   ]
  }
 ],
 "metadata": {
  "kernelspec": {
   "display_name": "Python 3.9.7 64-bit ('data': venv)",
   "language": "python",
   "name": "python397jvsc74a57bd0010941cb570a2f7ee6318851e4993fa889b23f664fd79d476a44bff1a5b5a8df"
  },
  "language_info": {
   "codemirror_mode": {
    "name": "ipython",
    "version": 3
   },
   "file_extension": ".py",
   "mimetype": "text/x-python",
   "name": "python",
   "nbconvert_exporter": "python",
   "pygments_lexer": "ipython3",
   "version": "3.9.7"
  }
 },
 "nbformat": 4,
 "nbformat_minor": 5
}
