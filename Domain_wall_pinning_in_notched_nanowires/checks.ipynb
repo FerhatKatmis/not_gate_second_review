{
 "cells": [
  {
   "cell_type": "code",
   "execution_count": 2,
   "id": "97dd29bf-b968-4842-991d-9f64bb1d3f1a",
   "metadata": {},
   "outputs": [],
   "source": [
    "from pint import UnitRegistry\n",
    "ureg = UnitRegistry()\n",
    "from scipy import constants"
   ]
  },
  {
   "cell_type": "code",
   "execution_count": 3,
   "id": "efbb9ed8-4ab8-45a1-9583-e982e55c1872",
   "metadata": {},
   "outputs": [],
   "source": [
    "M_0 = ureg.A/ureg.m\n",
    "mu_0 = ureg.mu_0\n",
    "A = ureg.joule/ureg.meter\n",
    "grm = 1/ureg.meter\n"
   ]
  },
  {
   "cell_type": "code",
   "execution_count": 8,
   "id": "7263ceea-a636-437d-a4e3-ceea970f6ef2",
   "metadata": {},
   "outputs": [
    {
     "data": {
      "text/plain": [
       "<UnitsContainer({'[current]': -2, '[length]': 1.0, '[mass]': 1.0, '[time]': -2.0})>"
      ]
     },
     "execution_count": 8,
     "metadata": {},
     "output_type": "execute_result"
    }
   ],
   "source": [
    "mu_0.dimensionality"
   ]
  },
  {
   "cell_type": "code",
   "execution_count": 9,
   "id": "e19fcaca-eb35-4aee-aa77-c1debed3efce",
   "metadata": {},
   "outputs": [
    {
     "data": {
      "text/plain": [
       "<UnitsContainer({'[length]': 2, '[mass]': 1, '[time]': -2})>"
      ]
     },
     "execution_count": 9,
     "metadata": {},
     "output_type": "execute_result"
    }
   ],
   "source": [
    "ureg.joules.dimensionality"
   ]
  },
  {
   "cell_type": "code",
   "execution_count": 3,
   "id": "efc38a20-2593-498d-a74c-78f6938fba57",
   "metadata": {},
   "outputs": [],
   "source": [
    "integrand = ((A*grm**2/(mu_0*M_0**2)))"
   ]
  },
  {
   "cell_type": "code",
   "execution_count": null,
   "id": "4544967b-1abf-45f1-8695-775049fb0782",
   "metadata": {},
   "outputs": [],
   "source": []
  },
  {
   "cell_type": "code",
   "execution_count": 4,
   "id": "10ce18cf-55e0-4cae-a431-2451f7886e24",
   "metadata": {},
   "outputs": [
    {
     "name": "stdout",
     "output_type": "stream",
     "text": [
      "dimensionless\n"
     ]
    }
   ],
   "source": [
    "print(integrand.dimensionality)"
   ]
  },
  {
   "cell_type": "code",
   "execution_count": 8,
   "id": "9ea53f92-31d3-40ad-bbc0-46564ea7c7ab",
   "metadata": {},
   "outputs": [],
   "source": [
    "should_be_joules= A*grm**2*ureg.meter**3"
   ]
  },
  {
   "cell_type": "code",
   "execution_count": 10,
   "id": "2f275876-dbc9-439d-abe8-ce670a6f91c6",
   "metadata": {},
   "outputs": [
    {
     "ename": "TypeError",
     "evalue": "compare() missing 1 required positional argument: 'op'",
     "output_type": "error",
     "traceback": [
      "\u001b[0;31m---------------------------------------------------------------------------\u001b[0m",
      "\u001b[0;31mTypeError\u001b[0m                                 Traceback (most recent call last)",
      "\u001b[0;32m/var/folders/q7/t0v848hn38z8qy436thrkzhc0000gp/T/ipykernel_13571/991360463.py\u001b[0m in \u001b[0;36m<module>\u001b[0;34m\u001b[0m\n\u001b[0;32m----> 1\u001b[0;31m \u001b[0mshould_be_joules\u001b[0m\u001b[0;34m.\u001b[0m\u001b[0mcompare\u001b[0m\u001b[0;34m(\u001b[0m\u001b[0mureg\u001b[0m\u001b[0;34m.\u001b[0m\u001b[0mjoule\u001b[0m\u001b[0;34m)\u001b[0m\u001b[0;34m\u001b[0m\u001b[0;34m\u001b[0m\u001b[0m\n\u001b[0m",
      "\u001b[0;32m~/envs/data/lib/python3.9/site-packages/pint/quantity.py\u001b[0m in \u001b[0;36mwrapped\u001b[0;34m(self, *args, **kwargs)\u001b[0m\n\u001b[1;32m    138\u001b[0m         \u001b[0;32melif\u001b[0m \u001b[0misinstance\u001b[0m\u001b[0;34m(\u001b[0m\u001b[0mother\u001b[0m\u001b[0;34m,\u001b[0m \u001b[0mlist\u001b[0m\u001b[0;34m)\u001b[0m \u001b[0;32mand\u001b[0m \u001b[0mother\u001b[0m \u001b[0;32mand\u001b[0m \u001b[0misinstance\u001b[0m\u001b[0;34m(\u001b[0m\u001b[0mother\u001b[0m\u001b[0;34m[\u001b[0m\u001b[0;36m0\u001b[0m\u001b[0;34m]\u001b[0m\u001b[0;34m,\u001b[0m \u001b[0mtype\u001b[0m\u001b[0;34m(\u001b[0m\u001b[0mself\u001b[0m\u001b[0;34m)\u001b[0m\u001b[0;34m)\u001b[0m\u001b[0;34m:\u001b[0m\u001b[0;34m\u001b[0m\u001b[0;34m\u001b[0m\u001b[0m\n\u001b[1;32m    139\u001b[0m             \u001b[0;32mreturn\u001b[0m \u001b[0mNotImplemented\u001b[0m\u001b[0;34m\u001b[0m\u001b[0;34m\u001b[0m\u001b[0m\n\u001b[0;32m--> 140\u001b[0;31m         \u001b[0;32mreturn\u001b[0m \u001b[0mf\u001b[0m\u001b[0;34m(\u001b[0m\u001b[0mself\u001b[0m\u001b[0;34m,\u001b[0m \u001b[0;34m*\u001b[0m\u001b[0margs\u001b[0m\u001b[0;34m,\u001b[0m \u001b[0;34m**\u001b[0m\u001b[0mkwargs\u001b[0m\u001b[0;34m)\u001b[0m\u001b[0;34m\u001b[0m\u001b[0;34m\u001b[0m\u001b[0m\n\u001b[0m\u001b[1;32m    141\u001b[0m \u001b[0;34m\u001b[0m\u001b[0m\n\u001b[1;32m    142\u001b[0m     \u001b[0;32mreturn\u001b[0m \u001b[0mwrapped\u001b[0m\u001b[0;34m\u001b[0m\u001b[0;34m\u001b[0m\u001b[0m\n",
      "\u001b[0;31mTypeError\u001b[0m: compare() missing 1 required positional argument: 'op'"
     ]
    }
   ],
   "source": [
    "should_be_joules.compare()"
   ]
  },
  {
   "cell_type": "code",
   "execution_count": 7,
   "id": "ba117d10-34b0-4a04-961f-56be77cc5953",
   "metadata": {},
   "outputs": [
    {
     "data": {
      "text/plain": [
       "<UnitsContainer({'[length]': 2, '[mass]': 1, '[time]': -2})>"
      ]
     },
     "execution_count": 7,
     "metadata": {},
     "output_type": "execute_result"
    }
   ],
   "source": [
    "ureg.joule.dimensionality"
   ]
  },
  {
   "cell_type": "code",
   "execution_count": null,
   "id": "4608282c-3c58-4813-bbbb-c1d5260c3237",
   "metadata": {},
   "outputs": [],
   "source": []
  },
  {
   "cell_type": "code",
   "execution_count": 7,
   "id": "24c1dd78-70e8-4b32-b7b2-f4b4bb8105ca",
   "metadata": {},
   "outputs": [
    {
     "data": {
      "text/plain": [
       "''"
      ]
     },
     "execution_count": 7,
     "metadata": {},
     "output_type": "execute_result"
    }
   ],
   "source": [
    "M.default_format"
   ]
  },
  {
   "cell_type": "code",
   "execution_count": null,
   "id": "ec446fab-be01-427d-a732-bbf0b387518f",
   "metadata": {},
   "outputs": [],
   "source": []
  },
  {
   "cell_type": "code",
   "execution_count": 2,
   "id": "ff081b05-6ec7-44d5-92b5-ccd6a4352113",
   "metadata": {},
   "outputs": [
    {
     "ename": "SyntaxError",
     "evalue": "invalid syntax (3039866690.py, line 1)",
     "output_type": "error",
     "traceback": [
      "\u001b[0;36m  File \u001b[0;32m\"/var/folders/q7/t0v848hn38z8qy436thrkzhc0000gp/T/ipykernel_12568/3039866690.py\"\u001b[0;36m, line \u001b[0;32m1\u001b[0m\n\u001b[0;31m    using pint\u001b[0m\n\u001b[0m          ^\u001b[0m\n\u001b[0;31mSyntaxError\u001b[0m\u001b[0;31m:\u001b[0m invalid syntax\n"
     ]
    }
   ],
   "source": [
    "using pint"
   ]
  }
 ],
 "metadata": {
  "kernelspec": {
   "display_name": "Python 3.9.7 64-bit ('data': venv)",
   "language": "python",
   "name": "python397jvsc74a57bd0010941cb570a2f7ee6318851e4993fa889b23f664fd79d476a44bff1a5b5a8df"
  },
  "language_info": {
   "codemirror_mode": {
    "name": "ipython",
    "version": 3
   },
   "file_extension": ".py",
   "mimetype": "text/x-python",
   "name": "python",
   "nbconvert_exporter": "python",
   "pygments_lexer": "ipython3",
   "version": "3.9.7"
  }
 },
 "nbformat": 4,
 "nbformat_minor": 5
}
