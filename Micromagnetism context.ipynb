{
 "cells": [
  {
   "cell_type": "markdown",
   "id": "262343db-4ecd-4ca7-829d-cfbfbdd9649e",
   "metadata": {
    "tags": []
   },
   "source": [
    "[//]:<textarea>\n",
    "# Micromagnetics\n",
    "## Introduction\n",
    "In micromagnetics we deal with magnetization direction vectors:\n",
    "$$ \\mathbf{m} = \\frac{\\mathbf{M}(:{\\frac{A}{m}})}{{M_s}(:{\\frac{A}{m}})}$$\n",
    "<ol>\n",
    "    <li>$|\\mathbf{m}|=1$</li> \n",
    "    <li> $\\mathbf{m}$ is dimensionless</li> \n",
    "</ol>\n",
    "The total energy of a magnetic system is calculated by integrating the energy densities of the system\n",
    "$$\n",
    "E(j) = \\int_V \\phi(:\\frac{j}{m^3})dV(:m^3)\n",
    "$$\n",
    "where $\\phi$ is\n",
    "$$\n",
    "\\phi = \\phi_{exch} + \\phi_{anis} + \\phi_{dmi} + \\phi_{demag}\n",
    "$$\n",
    "and \n",
    "$$\n",
    "    \\phi_{exch} = A_{ex}(:\\frac{j}{m})\\times[(\\nabla m_x)^2 + (\\nabla m_y)^2 + (\\nabla m_z)^2](:\\frac{1}{m^2}):(\\frac{j}{m^3})\n",
    "$$\n",
    "\n",
    "$$\n",
    "\\phi_{anis} = K_u (:\\frac{j}{m^3})(1-m_z^2)\n",
    "$$\n",
    "\n",
    "$$\n",
    "\\phi_{demag} = -\\frac{1}{2}\\mu_0 (:\\frac{mkg}{A^2s^2}) M_s(:\\frac{A}{m}) \\mathbf{m} \\cdot H_{demag}(:\\frac{A}{m}):(\\frac{m^2kg}{s^2m^3}:\\frac{j}{m^3})\n",
    "$$\n",
    "\n",
    "</textarea>"
   ]
  },
  {
   "cell_type": "markdown",
   "id": "2e6e42ef-b2c1-4088-9c8a-7548e1f4b129",
   "metadata": {},
   "source": [
    "## Equation 1\n",
    "\n",
    "The equation 1 of the paper is: \n",
    "$$ E = \\int \\left ( \\frac{A_{ex}}{\\mu_0M_s^2}(\\nabla m_i)(\\nabla m_i)+f_{an}(\\mathbf{m})+f_{d}(\\mathbf{m}) + f_{0}(\\mathbf{m}) \\right ) dV$$\n",
    "It is further stated that $f_{an}(\\mathbf{m}), f_{d}(\\mathbf{m}), f_{0}(\\mathbf{m})$ have the units of $\\mu_0M_s^2 (:\\frac{j}{m^3})$. This is correct because those are the energy densities. but we know that the exchange energy density formula is indeed $A_{ex}(:\\frac{j}{m})\\times[(\\nabla m_x)^2 + (\\nabla m_y)^2 + (\\nabla m_z)^2](:\\frac{1}{m^2}):(\\frac{j}{m^3})$ So dividing by $\\mu_0 M_s^2 (:\\frac{j}{m^3})$ is wrong in the first term. I think this multiplier has been meant to be for the who integral to make it dimensionless. I think that the first equation must be rewritten as: \n",
    "$$ E =  \\int \\left ( A_{ex}\\sum_{i=1,2,3}(\\nabla m_i)(\\nabla m_i)+f_{an}(\\mathbf{m})+f_{d}(\\mathbf{m}) + f_{0}(\\mathbf{m}) \\right ) dV$$\n",
    "or even better: \n",
    "$$ E =  \\int \\left ( A_{ex}[(\\nabla m_x)^2 + (\\nabla m_y)^2 +(\\nabla m_z)^2 ]+f_{an}(\\mathbf{m})+f_{d}(\\mathbf{m}) + f_{0}(\\mathbf{m}) \\right ) dV$$\n"
   ]
  },
  {
   "cell_type": "markdown",
   "id": "76cca5f6-755d-427f-9164-6817e7df75e8",
   "metadata": {},
   "source": [
    "## Variational Calculus recap\n",
    "\n"
   ]
  },
  {
   "cell_type": "markdown",
   "id": "62437db4-6093-4800-a34b-d70d205eefe9",
   "metadata": {},
   "source": [
    "In variational calculus if we want to minimize the integral:\n",
    "$$\n",
    "I = \\int \\left ( F[v,m,m']dv \\right)\n",
    "$$\n",
    "We need to have the Euler Lagrange equation as to: \n",
    "$$\n",
    "\\frac{\\partial F}{\\partial m_i} - \\frac{d}{dv} (\\frac{\\partial F}{\\partial{m'}}) = 0\n",
    "$$\n",
    "Now that the energy only depends on the m itself, we only have the first term: \n",
    "$$\n",
    "\\frac{df}{dm_i}=0\n",
    "$$\n",
    "This is subject to the constraint $g(\\mathbf{m}) = |\\mathbf{m}|^2  = m_x^2 + m_y^2 + m_z^2 = 1$\n",
    "thus we need to add a lagrange multiplier $\\lambda$ to have three equations for x, y , z:\n",
    "$$\n",
    "\\frac{df}{dm_i} + \\lambda \\frac {dg}{dm_i}=0, g(\\mathbf{m})=1\n",
    "$$\n",
    "\n"
   ]
  },
  {
   "cell_type": "markdown",
   "id": "eb747cb9-350b-4e2d-9380-79ca7a241932",
   "metadata": {},
   "source": [
    "## Derivation of the correct form of equation 2\n",
    "now if we do the derivatives for exchange interaction we have: \n",
    "$$\n",
    "\\frac{d}{dm_x} A_{ex}\\times[(\\nabla m_x)^2 + (\\nabla m_y)^2 + (\\nabla m_z)^2] = A_{ex} \\nabla^2 m_x\n",
    "$$\n",
    "$$\n",
    "\\frac{d}{dm_y} A_{ex}\\times[(\\nabla m_x)^2 + (\\nabla m_y)^2 + (\\nabla m_z)^2] = A_{ex} \\nabla^2 m_y\n",
    "$$\n",
    "$$\n",
    "\\frac{d}{dm_z} A_{ex}\\times[(\\nabla m_x)^2 + (\\nabla m_y)^2 + (\\nabla m_z)^2] = A_{ex} \\nabla^2 m_z\n",
    "$$\n",
    "\n",
    "for the demag energy we have: \n",
    "$$\n",
    "\\frac{d}{dm_x} (-\\frac{1}{2}\\mu_0 M_s \\mathbf{m} \\cdot H_{demag})= -\\frac{1}{2}\\mu_0 M_s m_x H_{d,x}\n",
    "$$\n",
    "$$\n",
    "\\frac{d}{dm_y} (-\\frac{1}{2}\\mu_0 M_s \\mathbf{m} \\cdot H_{demag})= -\\frac{1}{2}\\mu_0 M_s m_y H_{d,z}\n",
    "$$\n",
    "$$\n",
    "\\frac{d}{dm_z} (-\\frac{1}{2}\\mu_0 M_s \\mathbf{m} \\cdot H_{demag})= -\\frac{1}{2}\\mu_0 M_s m_y H_{d,z}\n",
    "$$\n",
    " \n",
    "if now we define the rest of the energy terms like this: \n",
    "$$\n",
    "\\phi_{rest} = 2\\mu_0 M_s^2 f(\\mathbf{m})\n",
    "$$"
   ]
  },
  {
   "cell_type": "markdown",
   "id": "2f1dfdf9-c5e3-41a9-9e8d-515d7cd36273",
   "metadata": {},
   "source": [
    "## Equation 2\n",
    "Now for each spatial indice $i \\in {x, y, z}$ we write the Euler Lagrange formula with constraint as \n",
    "$$\n",
    "A_{ex}\\nabla^2 m_i + \\frac{\\mu_0 M_s^2}{2} \\frac{d}{dm_i}f(\\mathbf{m}) - \\frac{1}{2} \\mu_0 M_s m_i H_{d,i} - \\lambda^\\prime \\times 2m_i = 0 \n",
    "$$\n",
    "If we multiply the equation by $\\frac{2}{\\mu_0 M_s^2}$\n",
    "$$\n",
    "\\frac{2}{\\mu_0 M_s}A_{ex}\\nabla^2 m_i + \\frac{d}{dm_i}f(\\mathbf{m}) - \\frac{1}{M_s}H_{d,i} - \\frac{2}{\\mu_0 M_s^2}\\lambda^\\prime \\times 2m_i = 0 \n",
    "$$\n",
    "Now if: \n",
    "<ol>\n",
    "    <li>\n",
    "        $$\n",
    "        l_{ex} = \\sqrt[]{\\frac{2A_{ex}}{ \\mu_0 M_s^2 } }\n",
    "        $$\n",
    "    </li>\n",
    "      <li>\n",
    "        $$\n",
    "        h_{d,i} = -\\frac{1}{M_s}H_{d,i}\n",
    "        $$\n",
    "    </li>\n",
    "          <li>\n",
    "        $$\n",
    "        \\lambda = \\frac{2}{\\mu_0 M_s^2} \\lambda^\\prime\n",
    "        $$\n",
    "    </li>\n",
    "              <li>\n",
    "        $$\n",
    "        f_{ot}(\\mathbf{m}) = - f(\\mathbf{m})\n",
    "        $$\n",
    "    </li>\n",
    "    \n",
    "\n",
    "</ol>\n",
    "\n",
    "We can rewrite the equation as: \n",
    "$$\n",
    "l_{ex}^2 \\nabla^2 m_i -\\frac{d}{dm_i}f_{ot}(\\mathbf{m}) + h_{d,i} + 2\\lambda m_i=0\n",
    "$$"
   ]
  },
  {
   "cell_type": "markdown",
   "id": "96c8d02f-4fb1-4aa0-ace1-aa56c50f21dd",
   "metadata": {},
   "source": [
    "## Problems with their equation\n",
    "<ol>\n",
    "    <li>\n",
    "        They have messed up the units in the first equation by dividing the exchange by $\\mu_0 M_s^2$ which is basically joules per meter cubed. They further say that the other terms have the unit $\\mu_0 M_s^2$ which is correct. But if they know that why are they dividing the exchange term by this unit? it seems that they were not aware of what the first term means\n",
    "    </li>\n",
    "        <li>\n",
    "They have messed up the signs in the energy term. I deliberately changed the terms to reach to their equation. In the next paragraph I write the correct term without introducing any extra terms\n",
    "    </li>\n",
    "    \n",
    "</ol>"
   ]
  },
  {
   "cell_type": "markdown",
   "id": "ed9728c5-286c-41d4-9a7e-2e4cdf317d33",
   "metadata": {},
   "source": [
    "## My Equation 2\n",
    "Let's say we have three main energy terms: \n",
    "<ol>\n",
    "    <li> Exchange energy term</li>\n",
    "    <li> Demag energy terms</li>\n",
    "     <li> all other energy terms</li>\n",
    "   \n",
    "</ol>"
   ]
  },
  {
   "cell_type": "markdown",
   "id": "6e9a555d-cdec-496b-9ba6-4d57e8fd05f0",
   "metadata": {},
   "source": [
    "## Proof of identity 4 \n",
    "We know the following identity:\n",
    "$$\n",
    "\\nabla \\cdot (u\\nabla v) = (\\nabla u)\\cdot (\\nabla v) + u \\nabla^2 v\n",
    "$$\n",
    "Now if \n",
    "$$\n",
    "u = \\frac{\\partial v}{\\partial x}\n",
    "$$\n",
    "easily:\n",
    "$$\n",
    "\\nabla u = \\frac{\\partial}{\\partial x} \\nabla v\n",
    "$$\n",
    "so the first formula becomes: \n",
    "$$\n",
    "\\nabla \\cdot (\\frac{\\partial v}{\\partial x}\\nabla v) = \\frac{\\partial}{\\partial x}[(\\nabla v)\\cdot (\\nabla v)] + \\frac{\\partial v}{\\partial x} \\nabla^2 v = \\frac{1}{2} \\frac{\\partial}{\\partial x}[\\nabla v]^2 + \\frac{\\partial v}{\\partial x} \\nabla^2 v\n",
    "$$"
   ]
  }
 ],
 "metadata": {
  "kernelspec": {
   "display_name": "Python 3.9.7 64-bit ('data': venv)",
   "language": "python",
   "name": "python397jvsc74a57bd0010941cb570a2f7ee6318851e4993fa889b23f664fd79d476a44bff1a5b5a8df"
  },
  "language_info": {
   "codemirror_mode": {
    "name": "ipython",
    "version": 3
   },
   "file_extension": ".py",
   "mimetype": "text/x-python",
   "name": "python",
   "nbconvert_exporter": "python",
   "pygments_lexer": "ipython3",
   "version": "3.9.7"
  }
 },
 "nbformat": 4,
 "nbformat_minor": 5
}
